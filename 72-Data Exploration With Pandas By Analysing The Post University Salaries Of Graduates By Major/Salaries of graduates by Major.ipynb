{
 "cells": [
  {
   "cell_type": "markdown",
   "id": "4ab41e8c-6836-4f4d-9df0-86945a3abc3d",
   "metadata": {},
   "source": [
    "# Import necessary libraries"
   ]
  },
  {
   "cell_type": "code",
   "id": "0329dac3-5fa1-454c-a352-74e4b9a58261",
   "metadata": {
    "ExecuteTime": {
     "end_time": "2024-11-13T06:11:09.537381Z",
     "start_time": "2024-11-13T06:11:09.534621Z"
    }
   },
   "source": [
    "import pandas as pd"
   ],
   "outputs": [],
   "execution_count": 28
  },
  {
   "cell_type": "markdown",
   "id": "649adb24-a3c0-46e8-b9e0-7fe76b2c2838",
   "metadata": {},
   "source": [
    "# Get the data"
   ]
  },
  {
   "cell_type": "code",
   "id": "b04d4d7c-1545-4e31-96d2-39476a8bc51f",
   "metadata": {
    "ExecuteTime": {
     "end_time": "2024-11-13T06:11:09.554108Z",
     "start_time": "2024-11-13T06:11:09.549696Z"
    }
   },
   "source": [
    "df_data = pd.read_csv('salaries_by_college_major.csv')"
   ],
   "outputs": [],
   "execution_count": 29
  },
  {
   "cell_type": "code",
   "id": "110d5e0e-0dc3-4551-8416-3bb5b074c2c8",
   "metadata": {
    "ExecuteTime": {
     "end_time": "2024-11-13T06:11:09.566856Z",
     "start_time": "2024-11-13T06:11:09.562284Z"
    }
   },
   "source": [
    "df_data.head()"
   ],
   "outputs": [
    {
     "data": {
      "text/plain": [
       "     Undergraduate Major  Starting Median Salary  Mid-Career Median Salary  \\\n",
       "0             Accounting               46,000.00                 77,100.00   \n",
       "1  Aerospace Engineering               57,700.00                101,000.00   \n",
       "2            Agriculture               42,600.00                 71,900.00   \n",
       "3           Anthropology               36,800.00                 61,500.00   \n",
       "4           Architecture               41,600.00                 76,800.00   \n",
       "\n",
       "   Mid-Career 10th Percentile Salary  Mid-Career 90th Percentile Salary  \\\n",
       "0                          42,200.00                         152,000.00   \n",
       "1                          64,300.00                         161,000.00   \n",
       "2                          36,300.00                         150,000.00   \n",
       "3                          33,800.00                         138,000.00   \n",
       "4                          50,600.00                         136,000.00   \n",
       "\n",
       "      Group  \n",
       "0  Business  \n",
       "1      STEM  \n",
       "2  Business  \n",
       "3      HASS  \n",
       "4  Business  "
      ],
      "text/html": [
       "<div>\n",
       "<style scoped>\n",
       "    .dataframe tbody tr th:only-of-type {\n",
       "        vertical-align: middle;\n",
       "    }\n",
       "\n",
       "    .dataframe tbody tr th {\n",
       "        vertical-align: top;\n",
       "    }\n",
       "\n",
       "    .dataframe thead th {\n",
       "        text-align: right;\n",
       "    }\n",
       "</style>\n",
       "<table border=\"1\" class=\"dataframe\">\n",
       "  <thead>\n",
       "    <tr style=\"text-align: right;\">\n",
       "      <th></th>\n",
       "      <th>Undergraduate Major</th>\n",
       "      <th>Starting Median Salary</th>\n",
       "      <th>Mid-Career Median Salary</th>\n",
       "      <th>Mid-Career 10th Percentile Salary</th>\n",
       "      <th>Mid-Career 90th Percentile Salary</th>\n",
       "      <th>Group</th>\n",
       "    </tr>\n",
       "  </thead>\n",
       "  <tbody>\n",
       "    <tr>\n",
       "      <th>0</th>\n",
       "      <td>Accounting</td>\n",
       "      <td>46,000.00</td>\n",
       "      <td>77,100.00</td>\n",
       "      <td>42,200.00</td>\n",
       "      <td>152,000.00</td>\n",
       "      <td>Business</td>\n",
       "    </tr>\n",
       "    <tr>\n",
       "      <th>1</th>\n",
       "      <td>Aerospace Engineering</td>\n",
       "      <td>57,700.00</td>\n",
       "      <td>101,000.00</td>\n",
       "      <td>64,300.00</td>\n",
       "      <td>161,000.00</td>\n",
       "      <td>STEM</td>\n",
       "    </tr>\n",
       "    <tr>\n",
       "      <th>2</th>\n",
       "      <td>Agriculture</td>\n",
       "      <td>42,600.00</td>\n",
       "      <td>71,900.00</td>\n",
       "      <td>36,300.00</td>\n",
       "      <td>150,000.00</td>\n",
       "      <td>Business</td>\n",
       "    </tr>\n",
       "    <tr>\n",
       "      <th>3</th>\n",
       "      <td>Anthropology</td>\n",
       "      <td>36,800.00</td>\n",
       "      <td>61,500.00</td>\n",
       "      <td>33,800.00</td>\n",
       "      <td>138,000.00</td>\n",
       "      <td>HASS</td>\n",
       "    </tr>\n",
       "    <tr>\n",
       "      <th>4</th>\n",
       "      <td>Architecture</td>\n",
       "      <td>41,600.00</td>\n",
       "      <td>76,800.00</td>\n",
       "      <td>50,600.00</td>\n",
       "      <td>136,000.00</td>\n",
       "      <td>Business</td>\n",
       "    </tr>\n",
       "  </tbody>\n",
       "</table>\n",
       "</div>"
      ]
     },
     "execution_count": 30,
     "metadata": {},
     "output_type": "execute_result"
    }
   ],
   "execution_count": 30
  },
  {
   "cell_type": "markdown",
   "id": "92b37af6-1bee-42c8-bd05-e2fddc4642e5",
   "metadata": {},
   "source": [
    "# Data exploration and cleaning\n",
    "\n",
    "* How many rows does our dataframe have? \n",
    "\n",
    "* How many columns does it have?\n",
    "\n",
    "* What are the labels for the columns? Do the columns have names?\n",
    "\n",
    "* Are there any missing values in our dataframe? Does our dataframe contain any bad data?"
   ]
  },
  {
   "cell_type": "code",
   "id": "e2445c06-f7a7-4114-93e1-16332617942b",
   "metadata": {
    "ExecuteTime": {
     "end_time": "2024-11-13T06:11:09.594567Z",
     "start_time": "2024-11-13T06:11:09.592484Z"
    }
   },
   "source": [
    "# No. of rows\n",
    "df_data.shape[0]"
   ],
   "outputs": [
    {
     "data": {
      "text/plain": [
       "51"
      ]
     },
     "execution_count": 31,
     "metadata": {},
     "output_type": "execute_result"
    }
   ],
   "execution_count": 31
  },
  {
   "cell_type": "code",
   "id": "5e722c05-6116-48de-a036-5ef8cd3ee75c",
   "metadata": {
    "ExecuteTime": {
     "end_time": "2024-11-13T06:11:09.681751Z",
     "start_time": "2024-11-13T06:11:09.679515Z"
    }
   },
   "source": [
    "# No. of columns\n",
    "df_data.shape[1]"
   ],
   "outputs": [
    {
     "data": {
      "text/plain": [
       "6"
      ]
     },
     "execution_count": 32,
     "metadata": {},
     "output_type": "execute_result"
    }
   ],
   "execution_count": 32
  },
  {
   "cell_type": "code",
   "id": "535fe003-9efd-4226-b391-59e691ba1d3a",
   "metadata": {
    "ExecuteTime": {
     "end_time": "2024-11-13T06:11:09.714785Z",
     "start_time": "2024-11-13T06:11:09.712419Z"
    }
   },
   "source": [
    "# Column names\n",
    "df_data.columns"
   ],
   "outputs": [
    {
     "data": {
      "text/plain": [
       "Index(['Undergraduate Major', 'Starting Median Salary',\n",
       "       'Mid-Career Median Salary', 'Mid-Career 10th Percentile Salary',\n",
       "       'Mid-Career 90th Percentile Salary', 'Group'],\n",
       "      dtype='object')"
      ]
     },
     "execution_count": 33,
     "metadata": {},
     "output_type": "execute_result"
    }
   ],
   "execution_count": 33
  },
  {
   "cell_type": "code",
   "id": "d675bc57-0730-48fe-b205-4df6aaba7f3b",
   "metadata": {
    "ExecuteTime": {
     "end_time": "2024-11-13T06:11:09.751808Z",
     "start_time": "2024-11-13T06:11:09.748766Z"
    }
   },
   "source": [
    "# Get the number of missing values in each columns\n",
    "df_data.isna().sum().sort_values(ascending=False)"
   ],
   "outputs": [
    {
     "data": {
      "text/plain": [
       "Starting Median Salary               1\n",
       "Mid-Career Median Salary             1\n",
       "Mid-Career 10th Percentile Salary    1\n",
       "Mid-Career 90th Percentile Salary    1\n",
       "Group                                1\n",
       "Undergraduate Major                  0\n",
       "dtype: int64"
      ]
     },
     "execution_count": 34,
     "metadata": {},
     "output_type": "execute_result"
    }
   ],
   "execution_count": 34
  },
  {
   "cell_type": "code",
   "id": "ea0a4164-f752-47b0-bf42-ccb226e6f361",
   "metadata": {
    "ExecuteTime": {
     "end_time": "2024-11-13T06:11:09.791252Z",
     "start_time": "2024-11-13T06:11:09.787172Z"
    }
   },
   "source": [
    "df_data.tail()"
   ],
   "outputs": [
    {
     "data": {
      "text/plain": [
       "      Undergraduate Major  Starting Median Salary  Mid-Career Median Salary  \\\n",
       "46             Psychology               35,900.00                 60,400.00   \n",
       "47               Religion               34,100.00                 52,000.00   \n",
       "48              Sociology               36,500.00                 58,200.00   \n",
       "49                Spanish               34,000.00                 53,100.00   \n",
       "50  Source: PayScale Inc.                     NaN                       NaN   \n",
       "\n",
       "    Mid-Career 10th Percentile Salary  Mid-Career 90th Percentile Salary Group  \n",
       "46                          31,600.00                         127,000.00  HASS  \n",
       "47                          29,700.00                          96,400.00  HASS  \n",
       "48                          30,700.00                         118,000.00  HASS  \n",
       "49                          31,000.00                          96,400.00  HASS  \n",
       "50                                NaN                                NaN   NaN  "
      ],
      "text/html": [
       "<div>\n",
       "<style scoped>\n",
       "    .dataframe tbody tr th:only-of-type {\n",
       "        vertical-align: middle;\n",
       "    }\n",
       "\n",
       "    .dataframe tbody tr th {\n",
       "        vertical-align: top;\n",
       "    }\n",
       "\n",
       "    .dataframe thead th {\n",
       "        text-align: right;\n",
       "    }\n",
       "</style>\n",
       "<table border=\"1\" class=\"dataframe\">\n",
       "  <thead>\n",
       "    <tr style=\"text-align: right;\">\n",
       "      <th></th>\n",
       "      <th>Undergraduate Major</th>\n",
       "      <th>Starting Median Salary</th>\n",
       "      <th>Mid-Career Median Salary</th>\n",
       "      <th>Mid-Career 10th Percentile Salary</th>\n",
       "      <th>Mid-Career 90th Percentile Salary</th>\n",
       "      <th>Group</th>\n",
       "    </tr>\n",
       "  </thead>\n",
       "  <tbody>\n",
       "    <tr>\n",
       "      <th>46</th>\n",
       "      <td>Psychology</td>\n",
       "      <td>35,900.00</td>\n",
       "      <td>60,400.00</td>\n",
       "      <td>31,600.00</td>\n",
       "      <td>127,000.00</td>\n",
       "      <td>HASS</td>\n",
       "    </tr>\n",
       "    <tr>\n",
       "      <th>47</th>\n",
       "      <td>Religion</td>\n",
       "      <td>34,100.00</td>\n",
       "      <td>52,000.00</td>\n",
       "      <td>29,700.00</td>\n",
       "      <td>96,400.00</td>\n",
       "      <td>HASS</td>\n",
       "    </tr>\n",
       "    <tr>\n",
       "      <th>48</th>\n",
       "      <td>Sociology</td>\n",
       "      <td>36,500.00</td>\n",
       "      <td>58,200.00</td>\n",
       "      <td>30,700.00</td>\n",
       "      <td>118,000.00</td>\n",
       "      <td>HASS</td>\n",
       "    </tr>\n",
       "    <tr>\n",
       "      <th>49</th>\n",
       "      <td>Spanish</td>\n",
       "      <td>34,000.00</td>\n",
       "      <td>53,100.00</td>\n",
       "      <td>31,000.00</td>\n",
       "      <td>96,400.00</td>\n",
       "      <td>HASS</td>\n",
       "    </tr>\n",
       "    <tr>\n",
       "      <th>50</th>\n",
       "      <td>Source: PayScale Inc.</td>\n",
       "      <td>NaN</td>\n",
       "      <td>NaN</td>\n",
       "      <td>NaN</td>\n",
       "      <td>NaN</td>\n",
       "      <td>NaN</td>\n",
       "    </tr>\n",
       "  </tbody>\n",
       "</table>\n",
       "</div>"
      ]
     },
     "execution_count": 35,
     "metadata": {},
     "output_type": "execute_result"
    }
   ],
   "execution_count": 35
  },
  {
   "cell_type": "code",
   "id": "30b96513-95a6-4cea-80da-a073d0ba958c",
   "metadata": {
    "ExecuteTime": {
     "end_time": "2024-11-13T06:11:09.841307Z",
     "start_time": "2024-11-13T06:11:09.838979Z"
    }
   },
   "source": [
    "# Drop the rows with missing values\n",
    "df_data.dropna(inplace=True)"
   ],
   "outputs": [],
   "execution_count": 36
  },
  {
   "cell_type": "code",
   "id": "e3de5d1f-2389-47e0-9252-e4e76313bd26",
   "metadata": {
    "ExecuteTime": {
     "end_time": "2024-11-13T06:11:09.881122Z",
     "start_time": "2024-11-13T06:11:09.877168Z"
    }
   },
   "source": [
    "df_data.tail()"
   ],
   "outputs": [
    {
     "data": {
      "text/plain": [
       "   Undergraduate Major  Starting Median Salary  Mid-Career Median Salary  \\\n",
       "45   Political Science               40,800.00                 78,200.00   \n",
       "46          Psychology               35,900.00                 60,400.00   \n",
       "47            Religion               34,100.00                 52,000.00   \n",
       "48           Sociology               36,500.00                 58,200.00   \n",
       "49             Spanish               34,000.00                 53,100.00   \n",
       "\n",
       "    Mid-Career 10th Percentile Salary  Mid-Career 90th Percentile Salary Group  \n",
       "45                          41,200.00                         168,000.00  HASS  \n",
       "46                          31,600.00                         127,000.00  HASS  \n",
       "47                          29,700.00                          96,400.00  HASS  \n",
       "48                          30,700.00                         118,000.00  HASS  \n",
       "49                          31,000.00                          96,400.00  HASS  "
      ],
      "text/html": [
       "<div>\n",
       "<style scoped>\n",
       "    .dataframe tbody tr th:only-of-type {\n",
       "        vertical-align: middle;\n",
       "    }\n",
       "\n",
       "    .dataframe tbody tr th {\n",
       "        vertical-align: top;\n",
       "    }\n",
       "\n",
       "    .dataframe thead th {\n",
       "        text-align: right;\n",
       "    }\n",
       "</style>\n",
       "<table border=\"1\" class=\"dataframe\">\n",
       "  <thead>\n",
       "    <tr style=\"text-align: right;\">\n",
       "      <th></th>\n",
       "      <th>Undergraduate Major</th>\n",
       "      <th>Starting Median Salary</th>\n",
       "      <th>Mid-Career Median Salary</th>\n",
       "      <th>Mid-Career 10th Percentile Salary</th>\n",
       "      <th>Mid-Career 90th Percentile Salary</th>\n",
       "      <th>Group</th>\n",
       "    </tr>\n",
       "  </thead>\n",
       "  <tbody>\n",
       "    <tr>\n",
       "      <th>45</th>\n",
       "      <td>Political Science</td>\n",
       "      <td>40,800.00</td>\n",
       "      <td>78,200.00</td>\n",
       "      <td>41,200.00</td>\n",
       "      <td>168,000.00</td>\n",
       "      <td>HASS</td>\n",
       "    </tr>\n",
       "    <tr>\n",
       "      <th>46</th>\n",
       "      <td>Psychology</td>\n",
       "      <td>35,900.00</td>\n",
       "      <td>60,400.00</td>\n",
       "      <td>31,600.00</td>\n",
       "      <td>127,000.00</td>\n",
       "      <td>HASS</td>\n",
       "    </tr>\n",
       "    <tr>\n",
       "      <th>47</th>\n",
       "      <td>Religion</td>\n",
       "      <td>34,100.00</td>\n",
       "      <td>52,000.00</td>\n",
       "      <td>29,700.00</td>\n",
       "      <td>96,400.00</td>\n",
       "      <td>HASS</td>\n",
       "    </tr>\n",
       "    <tr>\n",
       "      <th>48</th>\n",
       "      <td>Sociology</td>\n",
       "      <td>36,500.00</td>\n",
       "      <td>58,200.00</td>\n",
       "      <td>30,700.00</td>\n",
       "      <td>118,000.00</td>\n",
       "      <td>HASS</td>\n",
       "    </tr>\n",
       "    <tr>\n",
       "      <th>49</th>\n",
       "      <td>Spanish</td>\n",
       "      <td>34,000.00</td>\n",
       "      <td>53,100.00</td>\n",
       "      <td>31,000.00</td>\n",
       "      <td>96,400.00</td>\n",
       "      <td>HASS</td>\n",
       "    </tr>\n",
       "  </tbody>\n",
       "</table>\n",
       "</div>"
      ]
     },
     "execution_count": 37,
     "metadata": {},
     "output_type": "execute_result"
    }
   ],
   "execution_count": 37
  },
  {
   "cell_type": "markdown",
   "id": "d29faf21-9c97-450b-a658-cbe94418c54f",
   "metadata": {},
   "source": [
    "# Accessing Columns and Individual Cells in a Dataframe"
   ]
  },
  {
   "cell_type": "code",
   "id": "0fb9ab7c-dd7d-4481-bdb8-d4185e5bd61d",
   "metadata": {
    "ExecuteTime": {
     "end_time": "2024-11-13T06:11:09.929892Z",
     "start_time": "2024-11-13T06:11:09.926884Z"
    }
   },
   "source": [
    "# Find College Major with highest starting salaries\n",
    "df_data['Starting Median Salary'].max()"
   ],
   "outputs": [
    {
     "data": {
      "text/plain": [
       "np.float64(74300.0)"
      ]
     },
     "execution_count": 38,
     "metadata": {},
     "output_type": "execute_result"
    }
   ],
   "execution_count": 38
  },
  {
   "cell_type": "code",
   "id": "b97b2eb7-da4d-446c-876b-0074ae4a4364",
   "metadata": {
    "ExecuteTime": {
     "end_time": "2024-11-13T06:11:09.966448Z",
     "start_time": "2024-11-13T06:11:09.963731Z"
    }
   },
   "source": [
    "# Which major earns the highest starting salary?\n",
    "highest_starting_salary_row_num = df_data['Starting Median Salary'].idxmax()    # Get the row number\n",
    "df_data['Undergraduate Major'].loc[highest_starting_salary_row_num]"
   ],
   "outputs": [
    {
     "data": {
      "text/plain": [
       "'Physician Assistant'"
      ]
     },
     "execution_count": 39,
     "metadata": {},
     "output_type": "execute_result"
    }
   ],
   "execution_count": 39
  },
  {
   "cell_type": "code",
   "id": "1afe9643-1db7-47d6-891f-c8f3cbb17955",
   "metadata": {
    "ExecuteTime": {
     "end_time": "2024-11-13T06:11:10.007158Z",
     "start_time": "2024-11-13T06:11:10.004470Z"
    }
   },
   "source": [
    "# Retrieve the information of an entire row\n",
    "df_data.loc[highest_starting_salary_row_num]"
   ],
   "outputs": [
    {
     "data": {
      "text/plain": [
       "Undergraduate Major                  Physician Assistant\n",
       "Starting Median Salary                         74,300.00\n",
       "Mid-Career Median Salary                       91,700.00\n",
       "Mid-Career 10th Percentile Salary              66,400.00\n",
       "Mid-Career 90th Percentile Salary             124,000.00\n",
       "Group                                               STEM\n",
       "Name: 43, dtype: object"
      ]
     },
     "execution_count": 40,
     "metadata": {},
     "output_type": "execute_result"
    }
   ],
   "execution_count": 40
  },
  {
   "cell_type": "markdown",
   "id": "2342f5fd-2d99-4324-bca5-64b081085e2b",
   "metadata": {},
   "source": [
    "* What college major has the highest mid-career salary? How much do graduates with this major earn? (Mid-career is defined as having 10+ years of experience)."
   ]
  },
  {
   "cell_type": "code",
   "id": "325ccf2c-013c-4670-9a06-58df74427e13",
   "metadata": {
    "ExecuteTime": {
     "end_time": "2024-11-13T06:11:10.039883Z",
     "start_time": "2024-11-13T06:11:10.037377Z"
    }
   },
   "source": [
    "df_data['Mid-Career Median Salary'].max()"
   ],
   "outputs": [
    {
     "data": {
      "text/plain": [
       "np.float64(107000.0)"
      ]
     },
     "execution_count": 41,
     "metadata": {},
     "output_type": "execute_result"
    }
   ],
   "execution_count": 41
  },
  {
   "cell_type": "code",
   "id": "ba185628-3d54-4f37-8b20-6a30ae99337b",
   "metadata": {
    "ExecuteTime": {
     "end_time": "2024-11-13T06:11:10.081414Z",
     "start_time": "2024-11-13T06:11:10.078542Z"
    }
   },
   "source": [
    "highest_mid_career_salary_row_num = df_data['Mid-Career Median Salary'].idxmax()\n",
    "df_data['Undergraduate Major'].loc[highest_mid_career_salary_row_num]"
   ],
   "outputs": [
    {
     "data": {
      "text/plain": [
       "'Chemical Engineering'"
      ]
     },
     "execution_count": 42,
     "metadata": {},
     "output_type": "execute_result"
    }
   ],
   "execution_count": 42
  },
  {
   "cell_type": "code",
   "id": "d70b7f7f-1cab-4582-acf1-18334c2ac773",
   "metadata": {
    "ExecuteTime": {
     "end_time": "2024-11-13T06:11:10.117437Z",
     "start_time": "2024-11-13T06:11:10.114074Z"
    }
   },
   "source": [
    "df_data.loc[highest_mid_career_salary_row_num]"
   ],
   "outputs": [
    {
     "data": {
      "text/plain": [
       "Undergraduate Major                  Chemical Engineering\n",
       "Starting Median Salary                          63,200.00\n",
       "Mid-Career Median Salary                       107,000.00\n",
       "Mid-Career 10th Percentile Salary               71,900.00\n",
       "Mid-Career 90th Percentile Salary              194,000.00\n",
       "Group                                                STEM\n",
       "Name: 8, dtype: object"
      ]
     },
     "execution_count": 43,
     "metadata": {},
     "output_type": "execute_result"
    }
   ],
   "execution_count": 43
  },
  {
   "cell_type": "markdown",
   "id": "6bcde96e-16f4-46eb-a6c6-0f027aba7b05",
   "metadata": {},
   "source": [
    "* Which college major has the lowest starting salary and how much do graduates earn after university?"
   ]
  },
  {
   "cell_type": "code",
   "id": "2c0f2774-faaa-4075-87c2-20b283a0ba21",
   "metadata": {
    "ExecuteTime": {
     "end_time": "2024-11-13T06:11:10.140783Z",
     "start_time": "2024-11-13T06:11:10.138288Z"
    }
   },
   "source": [
    "df_data['Starting Median Salary'].min()"
   ],
   "outputs": [
    {
     "data": {
      "text/plain": [
       "np.float64(34000.0)"
      ]
     },
     "execution_count": 44,
     "metadata": {},
     "output_type": "execute_result"
    }
   ],
   "execution_count": 44
  },
  {
   "cell_type": "code",
   "id": "91c8ec5a-9082-4655-8540-30ee04bdeca3",
   "metadata": {
    "ExecuteTime": {
     "end_time": "2024-11-13T06:11:10.172070Z",
     "start_time": "2024-11-13T06:11:10.169877Z"
    }
   },
   "source": [
    "lowest_starting_salary_row_num = df_data['Starting Median Salary'].idxmin()\n",
    "df_data['Undergraduate Major'].loc[lowest_starting_salary_row_num]"
   ],
   "outputs": [
    {
     "data": {
      "text/plain": [
       "'Spanish'"
      ]
     },
     "execution_count": 45,
     "metadata": {},
     "output_type": "execute_result"
    }
   ],
   "execution_count": 45
  },
  {
   "cell_type": "code",
   "id": "40fd58fd-6802-4eb5-b1f6-bc8ccffb320c",
   "metadata": {
    "ExecuteTime": {
     "end_time": "2024-11-13T06:11:10.198733Z",
     "start_time": "2024-11-13T06:11:10.195930Z"
    }
   },
   "source": [
    "df_data.loc[lowest_starting_salary_row_num]"
   ],
   "outputs": [
    {
     "data": {
      "text/plain": [
       "Undergraduate Major                   Spanish\n",
       "Starting Median Salary              34,000.00\n",
       "Mid-Career Median Salary            53,100.00\n",
       "Mid-Career 10th Percentile Salary   31,000.00\n",
       "Mid-Career 90th Percentile Salary   96,400.00\n",
       "Group                                    HASS\n",
       "Name: 49, dtype: object"
      ]
     },
     "execution_count": 46,
     "metadata": {},
     "output_type": "execute_result"
    }
   ],
   "execution_count": 46
  },
  {
   "cell_type": "markdown",
   "id": "f70925ae-6692-43b7-97f4-dfb5f21f320b",
   "metadata": {},
   "source": [
    "* Which college major has the lowest mid-career salary and how much can people expect to earn with this degree? "
   ]
  },
  {
   "cell_type": "code",
   "id": "fa8cca77-5f35-46af-b0ab-3f0caf3ac8a2",
   "metadata": {
    "ExecuteTime": {
     "end_time": "2024-11-13T06:11:10.236557Z",
     "start_time": "2024-11-13T06:11:10.233951Z"
    }
   },
   "source": [
    "df_data['Mid-Career Median Salary'].min()"
   ],
   "outputs": [
    {
     "data": {
      "text/plain": [
       "np.float64(52000.0)"
      ]
     },
     "execution_count": 47,
     "metadata": {},
     "output_type": "execute_result"
    }
   ],
   "execution_count": 47
  },
  {
   "cell_type": "code",
   "id": "5aea6b6f-6af6-4a0a-a31a-33fb26edce19",
   "metadata": {
    "ExecuteTime": {
     "end_time": "2024-11-13T06:11:10.260775Z",
     "start_time": "2024-11-13T06:11:10.258304Z"
    }
   },
   "source": [
    "lowest_mid_career_salary_row_num = df_data['Mid-Career Median Salary'].idxmin()\n",
    "df_data['Undergraduate Major'].loc[lowest_mid_career_salary_row_num]"
   ],
   "outputs": [
    {
     "data": {
      "text/plain": [
       "'Education'"
      ]
     },
     "execution_count": 48,
     "metadata": {},
     "output_type": "execute_result"
    }
   ],
   "execution_count": 48
  },
  {
   "cell_type": "code",
   "id": "bd2c1e8d-3a7b-492a-ba30-9f4e746990f6",
   "metadata": {
    "ExecuteTime": {
     "end_time": "2024-11-13T06:11:10.289858Z",
     "start_time": "2024-11-13T06:11:10.286916Z"
    }
   },
   "source": [
    "df_data.loc[lowest_mid_career_salary_row_num]"
   ],
   "outputs": [
    {
     "data": {
      "text/plain": [
       "Undergraduate Major                  Education\n",
       "Starting Median Salary               34,900.00\n",
       "Mid-Career Median Salary             52,000.00\n",
       "Mid-Career 10th Percentile Salary    29,300.00\n",
       "Mid-Career 90th Percentile Salary   102,000.00\n",
       "Group                                     HASS\n",
       "Name: 18, dtype: object"
      ]
     },
     "execution_count": 49,
     "metadata": {},
     "output_type": "execute_result"
    }
   ],
   "execution_count": 49
  },
  {
   "cell_type": "markdown",
   "id": "0a4af998-3926-4941-9129-ccca90906043",
   "metadata": {},
   "source": [
    "# Sorting Values & Adding Columns: Majors with the Most Potential vs Lowest Risk"
   ]
  },
  {
   "cell_type": "code",
   "id": "107f7165-3566-4795-9d0b-4bc73ed19cc9",
   "metadata": {
    "ExecuteTime": {
     "end_time": "2024-11-13T06:11:10.312863Z",
     "start_time": "2024-11-13T06:11:10.310665Z"
    }
   },
   "source": [
    "# Get the difference between the 10th percentile salary and 90th percentile salary\n",
    "spread_col = df_data['Mid-Career 90th Percentile Salary'] - df_data['Mid-Career 10th Percentile Salary']\n",
    "\n",
    "# Make a column 'Spread' at postiion 1\n",
    "df_data.insert(1, 'Spread', spread_col)"
   ],
   "outputs": [],
   "execution_count": 50
  },
  {
   "cell_type": "code",
   "id": "7e41f92f-f7cc-4e86-bc1b-52a3a2aceade",
   "metadata": {
    "ExecuteTime": {
     "end_time": "2024-11-13T06:11:10.340026Z",
     "start_time": "2024-11-13T06:11:10.336341Z"
    }
   },
   "source": [
    "df_data.head()"
   ],
   "outputs": [
    {
     "data": {
      "text/plain": [
       "     Undergraduate Major     Spread  Starting Median Salary  \\\n",
       "0             Accounting 109,800.00               46,000.00   \n",
       "1  Aerospace Engineering  96,700.00               57,700.00   \n",
       "2            Agriculture 113,700.00               42,600.00   \n",
       "3           Anthropology 104,200.00               36,800.00   \n",
       "4           Architecture  85,400.00               41,600.00   \n",
       "\n",
       "   Mid-Career Median Salary  Mid-Career 10th Percentile Salary  \\\n",
       "0                 77,100.00                          42,200.00   \n",
       "1                101,000.00                          64,300.00   \n",
       "2                 71,900.00                          36,300.00   \n",
       "3                 61,500.00                          33,800.00   \n",
       "4                 76,800.00                          50,600.00   \n",
       "\n",
       "   Mid-Career 90th Percentile Salary     Group  \n",
       "0                         152,000.00  Business  \n",
       "1                         161,000.00      STEM  \n",
       "2                         150,000.00  Business  \n",
       "3                         138,000.00      HASS  \n",
       "4                         136,000.00  Business  "
      ],
      "text/html": [
       "<div>\n",
       "<style scoped>\n",
       "    .dataframe tbody tr th:only-of-type {\n",
       "        vertical-align: middle;\n",
       "    }\n",
       "\n",
       "    .dataframe tbody tr th {\n",
       "        vertical-align: top;\n",
       "    }\n",
       "\n",
       "    .dataframe thead th {\n",
       "        text-align: right;\n",
       "    }\n",
       "</style>\n",
       "<table border=\"1\" class=\"dataframe\">\n",
       "  <thead>\n",
       "    <tr style=\"text-align: right;\">\n",
       "      <th></th>\n",
       "      <th>Undergraduate Major</th>\n",
       "      <th>Spread</th>\n",
       "      <th>Starting Median Salary</th>\n",
       "      <th>Mid-Career Median Salary</th>\n",
       "      <th>Mid-Career 10th Percentile Salary</th>\n",
       "      <th>Mid-Career 90th Percentile Salary</th>\n",
       "      <th>Group</th>\n",
       "    </tr>\n",
       "  </thead>\n",
       "  <tbody>\n",
       "    <tr>\n",
       "      <th>0</th>\n",
       "      <td>Accounting</td>\n",
       "      <td>109,800.00</td>\n",
       "      <td>46,000.00</td>\n",
       "      <td>77,100.00</td>\n",
       "      <td>42,200.00</td>\n",
       "      <td>152,000.00</td>\n",
       "      <td>Business</td>\n",
       "    </tr>\n",
       "    <tr>\n",
       "      <th>1</th>\n",
       "      <td>Aerospace Engineering</td>\n",
       "      <td>96,700.00</td>\n",
       "      <td>57,700.00</td>\n",
       "      <td>101,000.00</td>\n",
       "      <td>64,300.00</td>\n",
       "      <td>161,000.00</td>\n",
       "      <td>STEM</td>\n",
       "    </tr>\n",
       "    <tr>\n",
       "      <th>2</th>\n",
       "      <td>Agriculture</td>\n",
       "      <td>113,700.00</td>\n",
       "      <td>42,600.00</td>\n",
       "      <td>71,900.00</td>\n",
       "      <td>36,300.00</td>\n",
       "      <td>150,000.00</td>\n",
       "      <td>Business</td>\n",
       "    </tr>\n",
       "    <tr>\n",
       "      <th>3</th>\n",
       "      <td>Anthropology</td>\n",
       "      <td>104,200.00</td>\n",
       "      <td>36,800.00</td>\n",
       "      <td>61,500.00</td>\n",
       "      <td>33,800.00</td>\n",
       "      <td>138,000.00</td>\n",
       "      <td>HASS</td>\n",
       "    </tr>\n",
       "    <tr>\n",
       "      <th>4</th>\n",
       "      <td>Architecture</td>\n",
       "      <td>85,400.00</td>\n",
       "      <td>41,600.00</td>\n",
       "      <td>76,800.00</td>\n",
       "      <td>50,600.00</td>\n",
       "      <td>136,000.00</td>\n",
       "      <td>Business</td>\n",
       "    </tr>\n",
       "  </tbody>\n",
       "</table>\n",
       "</div>"
      ]
     },
     "execution_count": 51,
     "metadata": {},
     "output_type": "execute_result"
    }
   ],
   "execution_count": 51
  },
  {
   "cell_type": "code",
   "id": "5951a7d3-1257-469c-a397-e75f625f863e",
   "metadata": {
    "ExecuteTime": {
     "end_time": "2024-11-13T06:11:10.374404Z",
     "start_time": "2024-11-13T06:11:10.370315Z"
    }
   },
   "source": [
    "# Get the top 5 low_risk major\n",
    "low_risk_major = df_data[['Undergraduate Major', 'Spread']].sort_values(by='Spread', ascending=True).head()\n",
    "low_risk_major"
   ],
   "outputs": [
    {
     "data": {
      "text/plain": [
       "           Undergraduate Major    Spread\n",
       "40                     Nursing 50,700.00\n",
       "43         Physician Assistant 57,600.00\n",
       "41                   Nutrition 65,300.00\n",
       "49                     Spanish 65,400.00\n",
       "27  Health Care Administration 66,400.00"
      ],
      "text/html": [
       "<div>\n",
       "<style scoped>\n",
       "    .dataframe tbody tr th:only-of-type {\n",
       "        vertical-align: middle;\n",
       "    }\n",
       "\n",
       "    .dataframe tbody tr th {\n",
       "        vertical-align: top;\n",
       "    }\n",
       "\n",
       "    .dataframe thead th {\n",
       "        text-align: right;\n",
       "    }\n",
       "</style>\n",
       "<table border=\"1\" class=\"dataframe\">\n",
       "  <thead>\n",
       "    <tr style=\"text-align: right;\">\n",
       "      <th></th>\n",
       "      <th>Undergraduate Major</th>\n",
       "      <th>Spread</th>\n",
       "    </tr>\n",
       "  </thead>\n",
       "  <tbody>\n",
       "    <tr>\n",
       "      <th>40</th>\n",
       "      <td>Nursing</td>\n",
       "      <td>50,700.00</td>\n",
       "    </tr>\n",
       "    <tr>\n",
       "      <th>43</th>\n",
       "      <td>Physician Assistant</td>\n",
       "      <td>57,600.00</td>\n",
       "    </tr>\n",
       "    <tr>\n",
       "      <th>41</th>\n",
       "      <td>Nutrition</td>\n",
       "      <td>65,300.00</td>\n",
       "    </tr>\n",
       "    <tr>\n",
       "      <th>49</th>\n",
       "      <td>Spanish</td>\n",
       "      <td>65,400.00</td>\n",
       "    </tr>\n",
       "    <tr>\n",
       "      <th>27</th>\n",
       "      <td>Health Care Administration</td>\n",
       "      <td>66,400.00</td>\n",
       "    </tr>\n",
       "  </tbody>\n",
       "</table>\n",
       "</div>"
      ]
     },
     "execution_count": 52,
     "metadata": {},
     "output_type": "execute_result"
    }
   ],
   "execution_count": 52
  },
  {
   "cell_type": "markdown",
   "id": "de24f723-9610-44b1-aead-5c6f3f01b10c",
   "metadata": {},
   "source": [
    "# Grouping and Pivoting Data with Pandas"
   ]
  },
  {
   "cell_type": "code",
   "id": "7751fbf0-4516-4f24-a54b-bcaa1bce961c",
   "metadata": {
    "ExecuteTime": {
     "end_time": "2024-11-13T06:11:10.417243Z",
     "start_time": "2024-11-13T06:11:10.413210Z"
    }
   },
   "source": [
    "# Get the count of groups\n",
    "df_data.groupby('Group').count()"
   ],
   "outputs": [
    {
     "data": {
      "text/plain": [
       "          Undergraduate Major  Spread  Starting Median Salary  \\\n",
       "Group                                                           \n",
       "Business                   12      12                      12   \n",
       "HASS                       22      22                      22   \n",
       "STEM                       16      16                      16   \n",
       "\n",
       "          Mid-Career Median Salary  Mid-Career 10th Percentile Salary  \\\n",
       "Group                                                                   \n",
       "Business                        12                                 12   \n",
       "HASS                            22                                 22   \n",
       "STEM                            16                                 16   \n",
       "\n",
       "          Mid-Career 90th Percentile Salary  \n",
       "Group                                        \n",
       "Business                                 12  \n",
       "HASS                                     22  \n",
       "STEM                                     16  "
      ],
      "text/html": [
       "<div>\n",
       "<style scoped>\n",
       "    .dataframe tbody tr th:only-of-type {\n",
       "        vertical-align: middle;\n",
       "    }\n",
       "\n",
       "    .dataframe tbody tr th {\n",
       "        vertical-align: top;\n",
       "    }\n",
       "\n",
       "    .dataframe thead th {\n",
       "        text-align: right;\n",
       "    }\n",
       "</style>\n",
       "<table border=\"1\" class=\"dataframe\">\n",
       "  <thead>\n",
       "    <tr style=\"text-align: right;\">\n",
       "      <th></th>\n",
       "      <th>Undergraduate Major</th>\n",
       "      <th>Spread</th>\n",
       "      <th>Starting Median Salary</th>\n",
       "      <th>Mid-Career Median Salary</th>\n",
       "      <th>Mid-Career 10th Percentile Salary</th>\n",
       "      <th>Mid-Career 90th Percentile Salary</th>\n",
       "    </tr>\n",
       "    <tr>\n",
       "      <th>Group</th>\n",
       "      <th></th>\n",
       "      <th></th>\n",
       "      <th></th>\n",
       "      <th></th>\n",
       "      <th></th>\n",
       "      <th></th>\n",
       "    </tr>\n",
       "  </thead>\n",
       "  <tbody>\n",
       "    <tr>\n",
       "      <th>Business</th>\n",
       "      <td>12</td>\n",
       "      <td>12</td>\n",
       "      <td>12</td>\n",
       "      <td>12</td>\n",
       "      <td>12</td>\n",
       "      <td>12</td>\n",
       "    </tr>\n",
       "    <tr>\n",
       "      <th>HASS</th>\n",
       "      <td>22</td>\n",
       "      <td>22</td>\n",
       "      <td>22</td>\n",
       "      <td>22</td>\n",
       "      <td>22</td>\n",
       "      <td>22</td>\n",
       "    </tr>\n",
       "    <tr>\n",
       "      <th>STEM</th>\n",
       "      <td>16</td>\n",
       "      <td>16</td>\n",
       "      <td>16</td>\n",
       "      <td>16</td>\n",
       "      <td>16</td>\n",
       "      <td>16</td>\n",
       "    </tr>\n",
       "  </tbody>\n",
       "</table>\n",
       "</div>"
      ]
     },
     "execution_count": 53,
     "metadata": {},
     "output_type": "execute_result"
    }
   ],
   "execution_count": 53
  },
  {
   "cell_type": "code",
   "id": "c9213d30-6b6c-4037-8bfd-380246a988ac",
   "metadata": {
    "ExecuteTime": {
     "end_time": "2024-11-13T06:11:10.467402Z",
     "start_time": "2024-11-13T06:11:10.462604Z"
    }
   },
   "source": [
    "# Average salary by group\n",
    "cleaned_df = df_data.drop(['Undergraduate Major'], axis=1)\n",
    "\n",
    "# Correct the float display format to two decimal places\n",
    "pd.options.display.float_format = '{:,.2f}'.format\n",
    "cleaned_df.groupby('Group').mean()"
   ],
   "outputs": [
    {
     "data": {
      "text/plain": [
       "             Spread  Starting Median Salary  Mid-Career Median Salary  \\\n",
       "Group                                                                   \n",
       "Business 103,958.33               44,633.33                 75,083.33   \n",
       "HASS      95,218.18               37,186.36                 62,968.18   \n",
       "STEM     101,600.00               53,862.50                 90,812.50   \n",
       "\n",
       "          Mid-Career 10th Percentile Salary  Mid-Career 90th Percentile Salary  \n",
       "Group                                                                           \n",
       "Business                          43,566.67                         147,525.00  \n",
       "HASS                              34,145.45                         129,363.64  \n",
       "STEM                              56,025.00                         157,625.00  "
      ],
      "text/html": [
       "<div>\n",
       "<style scoped>\n",
       "    .dataframe tbody tr th:only-of-type {\n",
       "        vertical-align: middle;\n",
       "    }\n",
       "\n",
       "    .dataframe tbody tr th {\n",
       "        vertical-align: top;\n",
       "    }\n",
       "\n",
       "    .dataframe thead th {\n",
       "        text-align: right;\n",
       "    }\n",
       "</style>\n",
       "<table border=\"1\" class=\"dataframe\">\n",
       "  <thead>\n",
       "    <tr style=\"text-align: right;\">\n",
       "      <th></th>\n",
       "      <th>Spread</th>\n",
       "      <th>Starting Median Salary</th>\n",
       "      <th>Mid-Career Median Salary</th>\n",
       "      <th>Mid-Career 10th Percentile Salary</th>\n",
       "      <th>Mid-Career 90th Percentile Salary</th>\n",
       "    </tr>\n",
       "    <tr>\n",
       "      <th>Group</th>\n",
       "      <th></th>\n",
       "      <th></th>\n",
       "      <th></th>\n",
       "      <th></th>\n",
       "      <th></th>\n",
       "    </tr>\n",
       "  </thead>\n",
       "  <tbody>\n",
       "    <tr>\n",
       "      <th>Business</th>\n",
       "      <td>103,958.33</td>\n",
       "      <td>44,633.33</td>\n",
       "      <td>75,083.33</td>\n",
       "      <td>43,566.67</td>\n",
       "      <td>147,525.00</td>\n",
       "    </tr>\n",
       "    <tr>\n",
       "      <th>HASS</th>\n",
       "      <td>95,218.18</td>\n",
       "      <td>37,186.36</td>\n",
       "      <td>62,968.18</td>\n",
       "      <td>34,145.45</td>\n",
       "      <td>129,363.64</td>\n",
       "    </tr>\n",
       "    <tr>\n",
       "      <th>STEM</th>\n",
       "      <td>101,600.00</td>\n",
       "      <td>53,862.50</td>\n",
       "      <td>90,812.50</td>\n",
       "      <td>56,025.00</td>\n",
       "      <td>157,625.00</td>\n",
       "    </tr>\n",
       "  </tbody>\n",
       "</table>\n",
       "</div>"
      ]
     },
     "execution_count": 54,
     "metadata": {},
     "output_type": "execute_result"
    }
   ],
   "execution_count": 54
  },
  {
   "cell_type": "markdown",
   "id": "0ebb4711-b47b-4469-8fb5-522c04caa261",
   "metadata": {},
   "source": [
    "# Extra Credit:\n",
    "\n",
    "Updating Post-Degree Earnings: Extracting Current Finance Degree Holder Data from [PayScale's Website](https://www.payscale.com/college-salary-report/majors-that-pay-you-back/bachelors)"
   ]
  },
  {
   "cell_type": "code",
   "id": "45df0968-dabd-4894-ac46-fc2185d15c0b",
   "metadata": {
    "ExecuteTime": {
     "end_time": "2024-11-13T06:11:10.527267Z",
     "start_time": "2024-11-13T06:11:10.525641Z"
    }
   },
   "source": [],
   "outputs": [],
   "execution_count": null
  }
 ],
 "metadata": {
  "kernelspec": {
   "display_name": "Python 3 (ipykernel)",
   "language": "python",
   "name": "python3"
  },
  "language_info": {
   "codemirror_mode": {
    "name": "ipython",
    "version": 3
   },
   "file_extension": ".py",
   "mimetype": "text/x-python",
   "name": "python",
   "nbconvert_exporter": "python",
   "pygments_lexer": "ipython3",
   "version": "3.11.7"
  }
 },
 "nbformat": 4,
 "nbformat_minor": 5
}
